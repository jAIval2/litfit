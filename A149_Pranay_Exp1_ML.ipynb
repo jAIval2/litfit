{
 "nbformat": 4,
 "nbformat_minor": 0,
 "metadata": {
  "colab": {
   "provenance": []
  },
  "kernelspec": {
   "name": "python3",
   "display_name": "Python 3"
  },
  "language_info": {
   "name": "python"
  }
 },
 "cells": [
  {
   "cell_type": "code",
   "execution_count": 6,
   "metadata": {
    "colab": {
     "base_uri": "https://localhost:8080/",
     "height": 1000
    },
    "id": "EhZfinKMj97Q",
    "outputId": "53541211-ad9b-49c9-904e-d8deefe537e4",
    "pycharm": {
     "name": "#%%\n"
    }
   },
   "outputs": [
    {
     "name": "stderr",
     "output_type": "stream",
     "text": [
      "\u001B[33m * Tip: There are .env or .flaskenv files present. Do \"pip install python-dotenv\" to use them.\u001B[0m\n"
     ]
    },
    {
     "name": "stdout",
     "output_type": "stream",
     "text": [
      " * Serving Flask app '__main__'\n",
      " * Debug mode: on\n"
     ]
    },
    {
     "name": "stderr",
     "output_type": "stream",
     "text": [
      "WARNING: This is a development server. Do not use it in a production deployment. Use a production WSGI server instead.\n",
      " * Running on http://127.0.0.1:5000\n",
      "Press CTRL+C to quit\n",
      "127.0.0.1 - - [22/Feb/2025 23:41:30] \"GET / HTTP/1.1\" 404 -\n",
      "127.0.0.1 - - [22/Feb/2025 23:41:30] \"GET / HTTP/1.1\" 404 -\n",
      "127.0.0.1 - - [22/Feb/2025 23:41:31] \"GET /favicon.ico HTTP/1.1\" 404 -\n",
      "127.0.0.1 - - [22/Feb/2025 23:41:55] \"GET /predict HTTP/1.1\" 405 -\n",
      "127.0.0.1 - - [22/Feb/2025 23:43:34] \"GET /predict HTTP/1.1\" 405 -\n",
      "C:\\Users\\sonal\\AppData\\Local\\Programs\\Python\\Python39\\lib\\site-packages\\sklearn\\base.py:493: UserWarning: X does not have valid feature names, but StandardScaler was fitted with feature names\n",
      "  warnings.warn(\n",
      "C:\\Users\\sonal\\AppData\\Local\\Programs\\Python\\Python39\\lib\\site-packages\\sklearn\\base.py:493: UserWarning: X does not have valid feature names, but StandardScaler was fitted with feature names\n",
      "  warnings.warn(\n",
      "127.0.0.1 - - [22/Feb/2025 23:45:36] \"POST /predict HTTP/1.1\" 500 -\n",
      "Traceback (most recent call last):\n",
      "  File \"C:\\Users\\sonal\\AppData\\Local\\Programs\\Python\\Python39\\lib\\site-packages\\flask\\app.py\", line 1488, in __call__\n",
      "    return self.wsgi_app(environ, start_response)\n",
      "  File \"C:\\Users\\sonal\\AppData\\Local\\Programs\\Python\\Python39\\lib\\site-packages\\flask\\app.py\", line 1466, in wsgi_app\n",
      "    response = self.handle_exception(e)\n",
      "  File \"C:\\Users\\sonal\\AppData\\Local\\Programs\\Python\\Python39\\lib\\site-packages\\flask\\app.py\", line 1463, in wsgi_app\n",
      "    response = self.full_dispatch_request()\n",
      "  File \"C:\\Users\\sonal\\AppData\\Local\\Programs\\Python\\Python39\\lib\\site-packages\\flask\\app.py\", line 872, in full_dispatch_request\n",
      "    rv = self.handle_user_exception(e)\n",
      "  File \"C:\\Users\\sonal\\AppData\\Local\\Programs\\Python\\Python39\\lib\\site-packages\\flask\\app.py\", line 870, in full_dispatch_request\n",
      "    rv = self.dispatch_request()\n",
      "  File \"C:\\Users\\sonal\\AppData\\Local\\Programs\\Python\\Python39\\lib\\site-packages\\flask\\app.py\", line 855, in dispatch_request\n",
      "    return self.ensure_sync(self.view_functions[rule.endpoint])(**view_args)  # type: ignore[no-any-return]\n",
      "  File \"C:\\Users\\sonal\\AppData\\Local\\Temp\\ipykernel_1536\\1618803526.py\", line 36, in predict\n",
      "    tshirt_pred_enc = rf_tshirt_model.predict(X_ts_scaled)\n",
      "AttributeError: 'LabelEncoder' object has no attribute 'predict'\n"
     ]
    }
   ],
   "source": [
    "from flask import Flask, request, jsonify\n",
    "import numpy as np\n",
    "import joblib\n",
    "\n",
    "app = Flask(__name__)\n",
    "\n",
    "# Load saved models, scalers, and encoders\n",
    "rf_tshirt_model = joblib.load(\"litfit/le_jeans.pkl\")\n",
    "rf_jeans_model = joblib.load(\"litfit/rf_jeans_model.pkl\")\n",
    "scaler_ts = joblib.load(\"litfit/scaler_ts.pkl\")\n",
    "scaler_je = joblib.load(\"litfit/scaler_je.pkl\")\n",
    "le_tshirt = joblib.load(\"litfit/le_tshirt.pkl\")\n",
    "le_jeans = joblib.load(\"litfit/le_jeans.pkl\")\n",
    "\n",
    "@app.route('/predict', methods=['POST'])\n",
    "def predict():\n",
    "    # Expect JSON payload with keys: \"ChestCMS\", \"WaistCMS\", \"HeightCMS\", \"WeightKGS\"\n",
    "    data = request.get_json(force=True)\n",
    "\n",
    "    try:\n",
    "        chest = float(data.get(\"ChestCMS\"))\n",
    "        waist = float(data.get(\"WaistCMS\"))\n",
    "        height = float(data.get(\"HeightCMS\"))\n",
    "        weight = float(data.get(\"WeightKGS\"))\n",
    "    except Exception as e:\n",
    "        return jsonify({\"error\": \"Invalid input. Please provide numeric values for ChestCMS, WaistCMS, HeightCMS, and WeightKGS.\"}), 400\n",
    "\n",
    "    # Create an input array in the same order as used during training\n",
    "    input_array = np.array([[chest, waist, height, weight]], dtype=np.float32)\n",
    "\n",
    "    # Scale the input using the saved scalers (separately for T-Shirt and Jeans models)\n",
    "    X_ts_scaled = scaler_ts.transform(input_array)\n",
    "    X_je_scaled = scaler_je.transform(input_array)\n",
    "\n",
    "    # Predict using the loaded RandomForest models\n",
    "    tshirt_pred_enc = rf_tshirt_model.predict(X_ts_scaled)\n",
    "    jeans_pred_enc = rf_jeans_model.predict(X_je_scaled)\n",
    "\n",
    "    # Convert numeric predictions back to their original labels\n",
    "    tshirt_pred = le_tshirt.inverse_transform([int(tshirt_pred_enc)])\n",
    "    jeans_pred = le_jeans.inverse_transform([int(jeans_pred_enc)])\n",
    "\n",
    "    # Prepare JSON output\n",
    "    output = {\n",
    "        \"body_measurements\": {\n",
    "            \"ChestCMS\": chest,\n",
    "            \"WaistCMS\": waist,\n",
    "            \"HeightCMS\": height,\n",
    "            \"WeightKGS\": weight\n",
    "        },\n",
    "        \"size_recommendation\": {\n",
    "            \"T-Shirt\": tshirt_pred[0],\n",
    "            \"Pants\": jeans_pred[0]\n",
    "        }\n",
    "    }\n",
    "\n",
    "    return jsonify(output)\n",
    "\n",
    "if __name__ == '__main__':\n",
    "    app.run(debug=True, use_reloader=False)\n"
   ]
  },
  {
   "cell_type": "code",
   "execution_count": 2,
   "outputs": [
    {
     "name": "stdout",
     "output_type": "stream",
     "text": [
      " * Serving Flask app '__main__'\n",
      " * Debug mode: on\n"
     ]
    },
    {
     "name": "stderr",
     "output_type": "stream",
     "text": [
      "C:\\Users\\sonal\\AppData\\Local\\Programs\\Python\\Python39\\lib\\site-packages\\sklearn\\base.py:376: InconsistentVersionWarning: Trying to unpickle estimator DecisionTreeClassifier from version 1.6.1 when using version 1.4.1.post1. This might lead to breaking code or invalid results. Use at your own risk. For more info please refer to:\n",
      "https://scikit-learn.org/stable/model_persistence.html#security-maintainability-limitations\n",
      "  warnings.warn(\n",
      "C:\\Users\\sonal\\AppData\\Local\\Programs\\Python\\Python39\\lib\\site-packages\\sklearn\\base.py:376: InconsistentVersionWarning: Trying to unpickle estimator RandomForestClassifier from version 1.6.1 when using version 1.4.1.post1. This might lead to breaking code or invalid results. Use at your own risk. For more info please refer to:\n",
      "https://scikit-learn.org/stable/model_persistence.html#security-maintainability-limitations\n",
      "  warnings.warn(\n",
      "C:\\Users\\sonal\\AppData\\Local\\Programs\\Python\\Python39\\lib\\site-packages\\sklearn\\base.py:376: InconsistentVersionWarning: Trying to unpickle estimator StandardScaler from version 1.6.1 when using version 1.4.1.post1. This might lead to breaking code or invalid results. Use at your own risk. For more info please refer to:\n",
      "https://scikit-learn.org/stable/model_persistence.html#security-maintainability-limitations\n",
      "  warnings.warn(\n",
      "C:\\Users\\sonal\\AppData\\Local\\Programs\\Python\\Python39\\lib\\site-packages\\sklearn\\base.py:376: InconsistentVersionWarning: Trying to unpickle estimator LabelEncoder from version 1.6.1 when using version 1.4.1.post1. This might lead to breaking code or invalid results. Use at your own risk. For more info please refer to:\n",
      "https://scikit-learn.org/stable/model_persistence.html#security-maintainability-limitations\n",
      "  warnings.warn(\n",
      "WARNING: This is a development server. Do not use it in a production deployment. Use a production WSGI server instead.\n",
      " * Running on http://127.0.0.1:5000\n",
      "Press CTRL+C to quit\n",
      "127.0.0.1 - - [25/Feb/2025 12:59:19] \"POST /predict HTTP/1.1\" 200 -\n",
      "127.0.0.1 - - [25/Feb/2025 12:59:48] \"POST /predict HTTP/1.1\" 200 -\n",
      "C:\\Users\\sonal\\AppData\\Local\\Programs\\Python\\Python39\\lib\\site-packages\\sklearn\\base.py:376: InconsistentVersionWarning: Trying to unpickle estimator DecisionTreeClassifier from version 1.6.1 when using version 1.4.1.post1. This might lead to breaking code or invalid results. Use at your own risk. For more info please refer to:\n",
      "https://scikit-learn.org/stable/model_persistence.html#security-maintainability-limitations\n",
      "  warnings.warn(\n",
      "C:\\Users\\sonal\\AppData\\Local\\Programs\\Python\\Python39\\lib\\site-packages\\sklearn\\base.py:376: InconsistentVersionWarning: Trying to unpickle estimator RandomForestClassifier from version 1.6.1 when using version 1.4.1.post1. This might lead to breaking code or invalid results. Use at your own risk. For more info please refer to:\n",
      "https://scikit-learn.org/stable/model_persistence.html#security-maintainability-limitations\n",
      "  warnings.warn(\n"
     ]
    },
    {
     "name": "stdout",
     "output_type": "stream",
     "text": [
      " * Serving Flask app '__main__'\n",
      " * Debug mode: on\n"
     ]
    },
    {
     "name": "stderr",
     "output_type": "stream",
     "text": [
      "C:\\Users\\sonal\\AppData\\Local\\Programs\\Python\\Python39\\lib\\site-packages\\sklearn\\base.py:376: InconsistentVersionWarning: Trying to unpickle estimator StandardScaler from version 1.6.1 when using version 1.4.1.post1. This might lead to breaking code or invalid results. Use at your own risk. For more info please refer to:\n",
      "https://scikit-learn.org/stable/model_persistence.html#security-maintainability-limitations\n",
      "  warnings.warn(\n",
      "C:\\Users\\sonal\\AppData\\Local\\Programs\\Python\\Python39\\lib\\site-packages\\sklearn\\base.py:376: InconsistentVersionWarning: Trying to unpickle estimator LabelEncoder from version 1.6.1 when using version 1.4.1.post1. This might lead to breaking code or invalid results. Use at your own risk. For more info please refer to:\n",
      "https://scikit-learn.org/stable/model_persistence.html#security-maintainability-limitations\n",
      "  warnings.warn(\n",
      "WARNING: This is a development server. Do not use it in a production deployment. Use a production WSGI server instead.\n",
      " * Running on http://127.0.0.1:5000\n",
      "Press CTRL+C to quit\n"
     ]
    }
   ],
   "source": [
    "from flask import Flask, request, jsonify\n",
    "from flask_cors import CORS  # Import CORS\n",
    "import numpy as np\n",
    "import pandas as pd\n",
    "import joblib\n",
    "\n",
    "app = Flask(__name__)\n",
    "CORS(app)  # Enable CORS for all routes\n",
    "\n",
    "# Load saved models, scalers, and label encoders.\n",
    "rf_tshirt_model = joblib.load(\"rf_tshirt_model.pkl\")\n",
    "rf_jeans_model = joblib.load(\"rf_jeans_model.pkl\")\n",
    "scaler_ts = joblib.load(\"scaler_ts.pkl\")\n",
    "scaler_je = joblib.load(\"scaler_je.pkl\")\n",
    "le_tshirt = joblib.load(\"le_tshirt.pkl\")\n",
    "le_jeans = joblib.load(\"le_jeans.pkl\")\n",
    "\n",
    "# A simple home endpoint to verify the API is running.\n",
    "@app.route('/', methods=['GET'])\n",
    "def home():\n",
    "    return \"API is running. Use POST /predict to get predictions.\"\n",
    "\n",
    "@app.route('/predict', methods=['POST'])\n",
    "def predict():\n",
    "    # Expect a JSON payload with keys: \"ChestCMS\", \"WaistCMS\", \"HeightCMS\", \"WeightKGS\"\n",
    "    data = request.get_json(force=True)\n",
    "\n",
    "    try:\n",
    "        chest = float(data[\"ChestCMS\"])\n",
    "        waist = float(data[\"WaistCMS\"])\n",
    "        height = float(data[\"HeightCMS\"])\n",
    "        weight = float(data[\"WeightKGS\"])\n",
    "    except Exception as e:\n",
    "        return jsonify({\n",
    "            \"error\": \"Invalid input. Provide numeric values for ChestCMS, WaistCMS, HeightCMS, and WeightKGS.\"\n",
    "        }), 400\n",
    "\n",
    "    # Convert input to DataFrame with the same column names as used during training.\n",
    "    input_df = pd.DataFrame([[chest, waist, height, weight]],\n",
    "                            columns=[\"ChestCMS\", \"WaistCMS\", \"HeightCMS\", \"WeightKGS\"])\n",
    "\n",
    "    # Scale the input using the saved scalers.\n",
    "    X_ts_scaled = scaler_ts.transform(input_df)\n",
    "    X_je_scaled = scaler_je.transform(input_df)\n",
    "\n",
    "    # Predict using the loaded RandomForest models.\n",
    "    tshirt_pred_enc = rf_tshirt_model.predict(X_ts_scaled)\n",
    "    jeans_pred_enc = rf_jeans_model.predict(X_je_scaled)\n",
    "\n",
    "    # Convert numeric predictions back to original size labels.\n",
    "    tshirt_size = le_tshirt.inverse_transform([int(tshirt_pred_enc[0])])[0]\n",
    "    jeans_size = le_jeans.inverse_transform([int(jeans_pred_enc[0])])[0]\n",
    "\n",
    "    output = {\n",
    "        \"body_measurements\": {\n",
    "            \"ChestCMS\": chest,\n",
    "            \"WaistCMS\": waist,\n",
    "            \"HeightCMS\": height,\n",
    "            \"WeightKGS\": weight\n",
    "        },\n",
    "        \"size_recommendation\": {\n",
    "            \"T-Shirt\": tshirt_size,\n",
    "            \"Jeans\": jeans_size\n",
    "        }\n",
    "    }\n",
    "\n",
    "    return jsonify(output)\n",
    "\n",
    "if __name__ == '__main__':\n",
    "    # Run the Flask app with use_reloader=False to avoid issues in some environments.\n",
    "    app.run(debug=True, use_reloader=False)\n"
   ],
   "metadata": {
    "collapsed": false,
    "pycharm": {
     "name": "#%%\n"
    }
   }
  },
  {
   "cell_type": "code",
   "execution_count": null,
   "outputs": [],
   "source": [],
   "metadata": {
    "collapsed": false,
    "pycharm": {
     "name": "#%%\n"
    }
   }
  }
 ]
}